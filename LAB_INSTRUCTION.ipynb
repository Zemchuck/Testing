{
 "cells": [
  {
   "cell_type": "markdown",
   "id": "32c9af95-9b49-4d37-83f3-292540608dd6",
   "metadata": {},
   "source": [
    "# Data and model testing"
   ]
  },
  {
   "cell_type": "code",
   "execution_count": null,
   "id": "65418a0b-d97e-43b3-b3bc-73ae23fc2991",
   "metadata": {
    "ExecuteTime": {
     "end_time": "2024-08-10T15:36:15.772272Z",
     "start_time": "2024-08-10T15:36:15.769190Z"
    }
   },
   "outputs": [],
   "source": [
    "import os\n",
    "\n",
    "# gets rid of irritating warnings\n",
    "os.environ[\"TOKENIZERS_PARALLELISM\"] = \"false\""
   ]
  },
  {
   "cell_type": "markdown",
   "id": "9fb0e6ca-2184-4c6a-9338-9786fbe46dcb",
   "metadata": {},
   "source": [
    "## Data preprocessing and initial quality checking\n",
    "\n",
    "We will be using [booking.com reviews dataset](https://www.kaggle.com/datasets/jiashenliu/515k-hotel-reviews-data-in-europe?resource=download), with over 500 thousand reviews of hotels. They are either positive or negative, and we will focus on review sentiment. We have [hosted it on HuggingFace](https://huggingface.co/datasets/morgul10/booking_reviews), with just the relevant columns.\n",
    "\n",
    "We will start with loading the data and initial checks - a **smoke test** of the data. Aim is to understand our dataset, and to detect obvious and serious problems. It is always a necessary process in ML.\n",
    "\n",
    "Most basic checks, which should always be performed, are:\n",
    "- data length\n",
    "- column types\n",
    "- example rows\n",
    "- exact duplicates check\n",
    "- labels distributions (for supervised problems)\n",
    "- more specific checks depending on the modality, e.g. text lengths distribution in NLP"
   ]
  },
  {
   "cell_type": "code",
   "execution_count": null,
   "id": "599fb02e-3690-4bff-b1f6-c29a1dfb41c7",
   "metadata": {
    "ExecuteTime": {
     "end_time": "2024-08-10T15:36:20.736460Z",
     "start_time": "2024-08-10T15:36:17.841409Z"
    },
    "scrolled": true
   },
   "outputs": [],
   "source": [
    "import matplotlib.pyplot as plt\n",
    "import pandas as pd\n",
    "\n",
    "from datasets import load_dataset\n",
    "\n",
    "\n",
    "df_raw = load_dataset(\"morgul10/booking_reviews\")[\"train\"].to_pandas()\n",
    "df_neg = df_raw[\"Negative_Review\"].str.strip()\n",
    "df_pos = df_raw[\"Positive_Review\"].str.strip()"
   ]
  },
  {
   "cell_type": "code",
   "execution_count": null,
   "id": "5d91d8f8-ef9b-46f2-bc39-93523b020da4",
   "metadata": {},
   "outputs": [],
   "source": [
    "print(\"Total data length:\", len(df_raw))\n",
    "print(\"Negative reviews:\", len(df_neg))\n",
    "print(\"Positive reviews:\", len(df_pos))"
   ]
  },
  {
   "cell_type": "code",
   "execution_count": null,
   "id": "3995e20c-83f3-4df6-8876-d7719a851186",
   "metadata": {},
   "outputs": [],
   "source": [
    "print(\"Data types:\")\n",
    "display(df_raw.dtypes)"
   ]
  },
  {
   "cell_type": "code",
   "execution_count": null,
   "id": "3332c4ef-7ac0-49fb-9f3f-dc9968baea1d",
   "metadata": {},
   "outputs": [],
   "source": [
    "print(\"First rows:\")\n",
    "display(df_raw.head(10))"
   ]
  },
  {
   "cell_type": "code",
   "execution_count": null,
   "id": "a29aa826-9d18-4644-9885-d45b0a09192f",
   "metadata": {},
   "outputs": [],
   "source": [
    "print(\"Last rows:\")\n",
    "display(df_raw.tail(10))"
   ]
  },
  {
   "cell_type": "code",
   "execution_count": null,
   "id": "16a079e7-54ab-45b7-93fc-e0a144e7a2e4",
   "metadata": {},
   "outputs": [],
   "source": [
    "df_neg.str.len().plot.hist(title=\"Negative reviews lengths\")"
   ]
  },
  {
   "cell_type": "code",
   "execution_count": null,
   "id": "84651a30-9e0e-47ae-9b09-d91f9a3de639",
   "metadata": {},
   "outputs": [],
   "source": [
    "df_pos.str.len().plot.hist(title=\"Positive reviews lengths\")"
   ]
  },
  {
   "cell_type": "markdown",
   "id": "26df8dd2-b6f7-485e-ba48-9e720cbc507d",
   "metadata": {},
   "source": [
    "As you can see, the data contains quite a few \"No Negatives\" and \"No Positive\" rows. This is a widespread problem with \"empty\" rows, which are not really empty. They can take a form of:\n",
    "- default text, like we have here (frequent in automated forms, data from web scraping etc.)\n",
    "- empty string instead of NULL\n",
    "- deleted rows, but only marked with \"deleted\" column (frequent in data warehouses)\n",
    "\n",
    "Those problems can also crop up during inference (e.g., empty text), and should be handled properly.\n",
    "\n",
    "This is a particular instance of **duplicate data** problem, which is surprisingly common. Another reason may be that people writing texts don't care, e.g. input generic answers like \"ok\" or \"everything\". This biases the model, essentially putting more weights on those texts. Worse, they can have different labels, which introduces strong noise.\n",
    "\n",
    "Let's see how frequent is this problem."
   ]
  },
  {
   "cell_type": "markdown",
   "id": "9b139fc7-3037-416c-8c77-1b396c96da84",
   "metadata": {},
   "source": [
    "### Exercise 1\n",
    "\n",
    "Check the percentage of 20 most common text duplicates. This can be achieved with Pandas code conceptually similar to a combination of GROUP BY and COUNT aggregation. Check it:\n",
    "- in positive and negative subsets\n",
    "- for the whole dataset"
   ]
  },
  {
   "cell_type": "code",
   "execution_count": null,
   "id": "114e6a65-21a2-4298-a5cb-a52eb67136d2",
   "metadata": {},
   "outputs": [],
   "source": []
  },
  {
   "cell_type": "markdown",
   "id": "b9523aea-6921-4d6c-a837-a9d4291c5a06",
   "metadata": {},
   "source": [
    "### Manual data cleaning"
   ]
  },
  {
   "cell_type": "markdown",
   "id": "ff77db75-a38b-4707-a019-7656cb45efcf",
   "metadata": {},
   "source": [
    "Imagine training (and testing!) a model on data, where about 25% of negative class is duplicated, or has useless values like \"none\". Not a good idea, so we will remove those duplicates simply by using a case-insensitive regular expression. We will also remove words like \"breakfast\" or \"location,\" which do not discriminate at all between positive and negative sentiment."
   ]
  },
  {
   "cell_type": "code",
   "execution_count": null,
   "id": "409def52-a0ce-4ef8-923d-c8e7dddd0237",
   "metadata": {
    "ExecuteTime": {
     "end_time": "2024-08-10T15:36:21.492247Z",
     "start_time": "2024-08-10T15:36:21.487830Z"
    },
    "scrolled": true
   },
   "outputs": [],
   "source": [
    "to_remove = [\n",
    "    \"No Negative\", \"No Positive\", \"nothing\", \"nothing really\", \"none\", \"n a\", \"na\",\n",
    "    \"everything\", \"location\", \"the location\", \"breakfast\", \"the breakfast\", \"staff\",\n",
    "]\n",
    "to_remove = [f\"^{word}$\" for word in to_remove]\n",
    "to_remove = \"|\".join(to_remove)\n",
    "to_remove"
   ]
  },
  {
   "cell_type": "markdown",
   "id": "ff632fd0908f056c",
   "metadata": {},
   "source": [
    "We will also perform two common cleaning steps: deduplication and removing empty strings. We can safely assume that people are lazy and write short, generic reviews, so there will be quite a few duplicates even after removing the most obvious cases."
   ]
  },
  {
   "cell_type": "code",
   "execution_count": null,
   "id": "c40f3944-80a8-48a7-8ef3-509978074893",
   "metadata": {
    "ExecuteTime": {
     "end_time": "2024-08-10T15:36:24.626317Z",
     "start_time": "2024-08-10T15:36:22.957050Z"
    },
    "scrolled": true
   },
   "outputs": [],
   "source": [
    "df_neg_filtered = df_neg[~df_neg.str.contains(to_remove, case=False, na=True, regex=True)]\n",
    "df_pos_filtered = df_pos[~df_pos.str.contains(to_remove, case=False, na=True, regex=True)]\n",
    "\n",
    "# empty strings removal\n",
    "df_neg_filtered = df_neg_filtered[df_neg_filtered.str.len() > 0]\n",
    "df_pos_filtered = df_pos_filtered[df_pos_filtered.str.len() > 0]\n",
    "\n",
    "df_neg_filtered = df_neg_filtered.reset_index(drop=True)\n",
    "df_pos_filtered = df_pos_filtered.reset_index(drop=True)\n",
    "\n",
    "df_neg_filtered = df_neg_filtered.to_frame().rename(columns={\"Negative_Review\": \"text\"})\n",
    "df_pos_filtered = df_pos_filtered.to_frame().rename(columns={\"Positive_Review\": \"text\"})\n",
    "\n",
    "df_neg_filtered[\"label\"] = 0\n",
    "df_pos_filtered[\"label\"] = 1\n",
    "\n",
    "print(\"Negative samples after filtering:\", len(df_neg_filtered))\n",
    "print(\"Positive samples after filtering:\", len(df_pos_filtered))\n",
    "\n",
    "df_all = pd.concat([df_neg_filtered, df_pos_filtered], ignore_index=True)\n",
    "df_all = df_all.drop_duplicates(ignore_index=True)"
   ]
  },
  {
   "cell_type": "markdown",
   "id": "fe0dd583-0127-4bac-91de-23ad6ace2042",
   "metadata": {},
   "source": [
    "Lastly, we have quite a lot of data, so we'll randomly subsample it. We will use stratification, so that the label distribution will be the same after sampling.\n",
    "\n",
    "**Modify this** depending on your hardware. Very good GPU should handle up to ~100k samples, medium-grade GPU about ~10-50k, and CPU about 5k. The more samples you process, the better the results will be."
   ]
  },
  {
   "cell_type": "code",
   "execution_count": null,
   "id": "d25fca66-65d6-4169-b2dd-93024ddb0eaf",
   "metadata": {},
   "outputs": [],
   "source": [
    "from sklearn.utils import resample\n",
    "\n",
    "\n",
    "df = resample(df_all, replace=False, n_samples=5000, random_state=0, stratify=df_all[\"label\"])\n",
    "df = df.reset_index(drop=True)\n",
    "df"
   ]
  },
  {
   "attachments": {
    "17e1aba2-573a-4693-a4a8-6d3f5ee8883a.png": {
     "image/png": "[encoded data removed]"
    }
   },
   "cell_type": "markdown",
   "id": "242e9772-1897-40fb-a84b-3006b4f11b04",
   "metadata": {},
   "source": [
    "## CleanLab blackbox testing\n",
    "\n",
    "[CleanLab library](https://github.com/cleanlab/cleanlab) aims to provide a blackbox, dead simple to use solution to ensure data quality. It can clean both data and labels, and works for any models. It is based on the framework of **confident learning (CL)**, originally created for detecting problems with data annotations.\n",
    "\n",
    "The main idea is as follows. A reasonably good model trained on the data should be very confident about properly annotated texts, and uncertain about ambiguous or incorrectly annotated texts. This is measured by predicted class probabilities. There are, of course, more details (e.g., class-conditioning, distinguishing model and data errors), but the general idea is really simple, and works with any data modality. It can not only detect errors, but also fix them. If another label is predicted with very high confidence, there is a high chance it's the correct one.\n",
    "\n",
    "![flowchart.png](attachment:17e1aba2-573a-4693-a4a8-6d3f5ee8883a.png)\n",
    "\n",
    "Researchers in confidence learning, and creators of CleanLab, used this methodology in paper [\"Pervasive label errors in test sets destabilize machine learning benchmarks\" C.G. Northcutt et al](https://arxiv.org/abs/2103.14749). They showed that in popular text and image benchmarking datasets, up to 10% of labels are incorrect.\n",
    "\n",
    "We will take a similar approach to test our dataset. To avoid a chicken-and-egg problem (we don't have a model yet, but we need model probabilities), we need the **initial model**. A simple, yet effective approach is using a pretrained embedding model, combined with a linear classifier. This method is equivalent to freezing weights and training just the classifier head. Both embeddings and probability predictions are then used by CleanLab to detect problems.\n",
    "\n",
    "For text classification, the workflow recommended by [HuggingFace Open-Source AI Cookbook](https://huggingface.co/learn/cookbook/en/issues_in_text_dataset) is:\n",
    "1. Compute text embeddings with a pretrained Sentence Transformer for feature extraction\n",
    "2. Train logistic regression with cross-validation\n",
    "3. Gather predicted probabilities (model confidence scores) for validation sets\n",
    "4. Use CleanLab using this data\n",
    "\n",
    "Bonus: we originally detected some problems with duplicates in this dataset also by using CleanLab."
   ]
  },
  {
   "cell_type": "markdown",
   "id": "97b7fdee-d552-4681-bf33-3f88f50038a7",
   "metadata": {},
   "source": [
    "### Exercise 2\n",
    "\n",
    "Implement the `get_initial_model_data()` function:\n",
    "1. Compute text embeddings with [sentence-transformers](https://sbert.net/docs/sentence_transformer/pretrained_models.html) and `all-MiniLM-L6-v2` model.\n",
    "2. Create `LogisticRegression` object\n",
    "3. Train logistic regression and get probability predictions using `cross_val_predict()`. Note that it requires explicitly specifying that `predict_proba()` method should be used, in order to return probabilities, rather than 0/1 labels.\n"
   ]
  },
  {
   "cell_type": "code",
   "execution_count": null,
   "id": "49f471d0-db1f-4dba-b1c9-6f4531d2ee5b",
   "metadata": {
    "ExecuteTime": {
     "end_time": "2024-08-10T15:36:32.493002Z",
     "start_time": "2024-08-10T15:36:28.965105Z"
    }
   },
   "outputs": [],
   "source": [
    "import joblib\n",
    "import numpy as np\n",
    "from sentence_transformers import SentenceTransformer\n",
    "from sklearn.linear_model import LogisticRegression\n",
    "from sklearn.model_selection import cross_val_predict\n",
    "\n",
    "\n",
    "def get_initial_model_data(texts: list[str], labels: np.ndarray) -> tuple[np.ndarray, np.ndarray]:\n",
    "    ...  # implement me!\n"
   ]
  },
  {
   "cell_type": "markdown",
   "id": "2a27799d7029cae",
   "metadata": {},
   "source": [
    "#### Verification"
   ]
  },
  {
   "cell_type": "code",
   "execution_count": null,
   "id": "6e82fe93-4f9e-4dd6-99c1-0e41b35c92fb",
   "metadata": {
    "ExecuteTime": {
     "end_time": "2024-08-10T15:40:13.232656Z",
     "start_time": "2024-08-10T15:36:32.500199Z"
    },
    "scrolled": true
   },
   "outputs": [],
   "source": [
    "texts = df[\"text\"].values\n",
    "labels = df[\"label\"].values\n",
    "\n",
    "embeddings, pred_probs = get_initial_model_data(texts, labels)\n",
    "\n",
    "assert len(embeddings) == len(pred_probs)\n",
    "assert pred_probs.ndim == 2"
   ]
  },
  {
   "cell_type": "markdown",
   "id": "7252f59691ca42d0",
   "metadata": {},
   "source": [
    "And now, we can use the CleanLab with the obtained embeddings and probability predictions."
   ]
  },
  {
   "cell_type": "code",
   "execution_count": null,
   "id": "4f0893f4-137f-4f10-bda9-860b2f875279",
   "metadata": {
    "ExecuteTime": {
     "end_time": "2024-08-10T15:43:03.573756Z",
     "start_time": "2024-08-10T15:40:13.234609Z"
    },
    "scrolled": true
   },
   "outputs": [],
   "source": [
    "from cleanlab import Datalab\n",
    "\n",
    "\n",
    "data_dict = {\"texts\": texts, \"labels\": labels}\n",
    "lab = Datalab(data_dict, label_name=\"labels\", task=\"classification\")\n",
    "lab.find_issues(pred_probs=pred_probs, features=embeddings)\n",
    "lab.report()"
   ]
  },
  {
   "cell_type": "markdown",
   "id": "000b7058-c52f-48a6-a1ac-a4f44add383d",
   "metadata": {},
   "source": [
    "About 1.9% of duplicates, even after our cleaning, are quite expected. Many people don't really care and write short, generic reviews. Still, the data-driven approach confirms it, and we'll take a closer look at this. Additionally, about 2.2% of mislabeled data looks quite problematic.\n",
    "\n",
    "To programmatically inspect a given issue, `.get_issues()` method is used. For a given issue type (see report above for exact names), it returns a DataFrame with score for each sample. Lower score means higher risk of problems. It also returns a column with a boolean indicator whether a given sample has the problem, e.g. `is_near_duplicate_issue` or `is_label_issue`, which uses a default threshold for the score.\n",
    "\n",
    "Let's inspect the duplicate issues for now."
   ]
  },
  {
   "cell_type": "code",
   "execution_count": null,
   "id": "b9cb1194-f841-4d4d-809e-a30dd778c866",
   "metadata": {
    "ExecuteTime": {
     "end_time": "2024-08-10T15:43:03.590645Z",
     "start_time": "2024-08-10T15:43:03.575022Z"
    },
    "scrolled": true
   },
   "outputs": [],
   "source": [
    "duplicate_issues = lab.get_issues(\"near_duplicate\")\n",
    "duplicate_issues = duplicate_issues[duplicate_issues[\"is_near_duplicate_issue\"]]\n",
    "duplicate_issues = duplicate_issues.sort_values(by=\"near_duplicate_score\")"
   ]
  },
  {
   "cell_type": "markdown",
   "id": "33858037-0a0c-49ca-9528-cf7cd938f05a",
   "metadata": {},
   "source": [
    "Row index indicates the row with a problem, and `near_duplicate_sets` are indices of duplicate rows. `distance_to_nearest_neighbor` measures distance between embeddings. Let's see the top 10 cases with most obvious duplicates."
   ]
  },
  {
   "cell_type": "code",
   "execution_count": null,
   "id": "ccf69590-62da-45c6-9177-da3cc980c6c9",
   "metadata": {
    "ExecuteTime": {
     "end_time": "2024-08-10T15:43:03.604376Z",
     "start_time": "2024-08-10T15:43:03.591347Z"
    },
    "scrolled": true
   },
   "outputs": [],
   "source": [
    "for idx, row in duplicate_issues.head(10).iterrows():\n",
    "    text = texts[idx]\n",
    "    neighbors = texts[row[\"near_duplicate_sets\"][:3]]\n",
    "    print(f\"Text: {text}\")\n",
    "    print(f\"\\tDuplicates: {neighbors}\")\n",
    "    print()"
   ]
  },
  {
   "cell_type": "markdown",
   "id": "3eb330f8-872d-4965-a1bc-0a6f015903e9",
   "metadata": {},
   "source": [
    "Yeah, we forgot that `Pandas` is case-sensitive about finding duplicates. So with CleanLab, we identified a problem with our preprocessing. We will filter this in just a bit. Let's also see the last 10 duplicates."
   ]
  },
  {
   "cell_type": "code",
   "execution_count": null,
   "id": "1f8f5004-c146-4e75-a720-0fc8dcd0ddcd",
   "metadata": {
    "ExecuteTime": {
     "end_time": "2024-08-10T15:43:03.611124Z",
     "start_time": "2024-08-10T15:43:03.605053Z"
    }
   },
   "outputs": [],
   "source": [
    "for idx, row in duplicate_issues.tail(10).iterrows():\n",
    "    text = texts[idx]\n",
    "    neighbors = texts[row[\"near_duplicate_sets\"][:3]]\n",
    "    print(f\"Text: {text}\")\n",
    "    print(f\"\\tDuplicates: {neighbors}\")\n",
    "    print()"
   ]
  },
  {
   "cell_type": "markdown",
   "id": "5cf1b414-05f8-4a61-8dbe-4df46975f884",
   "metadata": {},
   "source": [
    "Definitely similar, but not exactly duplicates. We will remove the case-insensitive duplicates now. Note that we will keep the index to avoid recalculation for inspecting further issues."
   ]
  },
  {
   "cell_type": "code",
   "execution_count": null,
   "id": "f9f48211-d333-4a4a-ad3f-41d304fc63b5",
   "metadata": {
    "ExecuteTime": {
     "end_time": "2024-08-10T15:43:03.742440Z",
     "start_time": "2024-08-10T15:43:03.612536Z"
    }
   },
   "outputs": [],
   "source": [
    "df[\"text_lower\"] = df[\"text\"].str.lower()\n",
    "df_deduplicated = df.drop_duplicates(subset=\"text_lower\")\n",
    "df_deduplicated = df_deduplicated.drop(columns=\"text_lower\")\n",
    "df_deduplicated = df_deduplicated.reset_index(drop=True)\n",
    "df_deduplicated"
   ]
  },
  {
   "cell_type": "markdown",
   "id": "cf696664-bdbe-4026-9bd0-03e4f36ecf48",
   "metadata": {},
   "source": [
    "Now we will inspect labels. If our model predicts the label different from the real one with very high confidence, it may be a mislabeled sample."
   ]
  },
  {
   "cell_type": "code",
   "execution_count": null,
   "id": "efc21ae2-c3b7-4fc4-8787-f7b0035ae73e",
   "metadata": {
    "ExecuteTime": {
     "end_time": "2024-08-10T15:43:03.771278Z",
     "start_time": "2024-08-10T15:43:03.743320Z"
    },
    "lines_to_next_cell": 2,
    "scrolled": true
   },
   "outputs": [],
   "source": [
    "label_issues = lab.get_issues(\"label\")\n",
    "label_issues = label_issues[label_issues[\"is_label_issue\"]]\n",
    "label_issues = label_issues.sort_values(by=\"label_score\")\n",
    "\n",
    "top_label_issues_y_true = label_issues.head(10)[\"given_label\"]\n",
    "top_label_issues_y_pred = label_issues.head(10)[\"predicted_label\"]\n",
    "top_label_issues_idxs = label_issues.head(10).index\n",
    "top_label_issues_texts = texts[top_label_issues_idxs]\n",
    "\n",
    "print(\"Top 10 label issues\")\n",
    "for text, y_true, y_pred in zip(top_label_issues_texts, top_label_issues_y_true, top_label_issues_y_pred):\n",
    "    print(f\"y_true {y_true}, y_pred {y_pred}, text: {text}\")\n",
    "    print()"
   ]
  },
  {
   "cell_type": "markdown",
   "id": "d1e447e0-176b-4597-a439-e9526caf2193",
   "metadata": {},
   "source": [
    "The reason for those is most probably that on booking.com there are separate fields for positive and negative reviews. Some people may get confused and put texts in the wrong place. So we also identified a potential UX issue, in addition to the labeling problem.\n",
    "\n",
    "We will change the labels as suggested by CleanLab."
   ]
  },
  {
   "cell_type": "code",
   "execution_count": null,
   "id": "9ad8b7ae-8f23-46ad-b639-0839ec710e3d",
   "metadata": {
    "ExecuteTime": {
     "end_time": "2024-08-10T15:43:03.779200Z",
     "start_time": "2024-08-10T15:43:03.771989Z"
    },
    "scrolled": true
   },
   "outputs": [],
   "source": [
    "# make sure we don't get key errors - we removed some rows earlier during deduplication\n",
    "label_issues = label_issues[label_issues.index.isin(df_deduplicated.index)]\n",
    "\n",
    "idxs = label_issues.index.tolist()\n",
    "pred_labels = label_issues[\"predicted_label\"]\n",
    "\n",
    "df_fixed = df_deduplicated.copy()\n",
    "df_fixed.loc[idxs, \"label\"] = pred_labels\n",
    "df_fixed"
   ]
  },
  {
   "cell_type": "markdown",
   "id": "02c320da-7265-4be4-b4f3-d874a835f484",
   "metadata": {},
   "source": [
    "### Exercise 3\n",
    "\n",
    "1. Print texts from the rows marked as outliers (`outlier` problem) with the strongest confidence (i.e., the lowest score).\n",
    "2. Comment, do you think those samples really are strange? Would you remove them?"
   ]
  },
  {
   "cell_type": "code",
   "execution_count": null,
   "id": "2bd1fa862622762b",
   "metadata": {},
   "outputs": [],
   "source": []
  },
  {
   "cell_type": "markdown",
   "id": "9ac60d09b5c80820",
   "metadata": {},
   "source": [
    "// comment here"
   ]
  },
  {
   "cell_type": "markdown",
   "id": "80f1111e-7ad8-403a-9ee5-6ad67fd9c92b",
   "metadata": {},
   "source": [
    "# Model Quality Testing\n",
    "This stage is essential for assessing the robustness, reliability, and performance of AI models developed using the curated data. Model Quality Testing enables us to verify that the model meets the intended goals and performs well across various scenarios and data subsets. This not only scrutinizes the accuracy and efficiency of models but also ensures that they are fair, accountable, and transparent in their operations."
   ]
  },
  {
   "cell_type": "markdown",
   "id": "ff148625-5e51-47c7-a246-9d61136ca830",
   "metadata": {},
   "source": [
    "## Common metrics\n",
    "\n",
    "Now that our data is cleaned and prepared, we can train a model and proceed to test it. Firstly, we will just look at common numerical metrics, summarizing the model performance over test data. Further, we will perform **behavioral testing**, checking its stability, biases and other problems not visible when just using typical performance metrics on labels.\n",
    "\n",
    "Firstly, we will focus on just regular metrics, which use predicted probabilities and labels. Our dataset is relatively balanced, which is quite rarely the case. In any case, metrics that take label imbalance into consideration are a good choice. Well-known ones are:\n",
    "1. Precision: if the model predicts the positive class, precision measures how sure we can be that it's really the positive class. High precision means low fraction of false positives (FP).\n",
    "2. Recall: measures how much of the positive class the model detected. High recall means low fraction of false negatives (FN).\n",
    "3. F1-score: a harmonic mean of precision and recall, aggregates them into one number for convenience. Harmonic mean heavily penalizes small numbers, so to get high value, both precision and recall have to be high, not just one of those.\n",
    "\n",
    "Area Under Receiver Operating Characteristic (AUROC / ROC AUC) is less frequently used in NLP, but has a few beneficial properties. It takes into consideration model probability predictions. For different thresholds (percentage above which we assume positive class) we measure the fractions of true positives and false positives, and aggregate those numbers. To achieve high AUROC, the model has to predict the right class with high probability, and avoid false positives even for low thresholds.\n",
    "\n",
    "Matthews Correlation Coefficient (MCC) can be thought of as Pearson correlation, but for binary variables. It has favorable statistical properties, and can spot model failures even when accuracy or AUROC are high. In particular, high MCC guarantees high AUROC and typically also other metrics, but not the other way around. For details, see:\n",
    "- [Wikipedia summary](https://en.wikipedia.org/wiki/Phi_coefficient#Advantages_over_accuracy_and_F1_score)\n",
    "- [\"Ten quick tips for machine learning in computational biology\" D. Chicco](https://www.ncbi.nlm.nih.gov/pmc/articles/PMC5721660/)\n",
    "- [\"The advantages of the Matthews correlation coefficient (MCC) over F1 score and accuracy in binary classification evaluation\" D. Chicco, G. Jurman](https://www.ncbi.nlm.nih.gov/pmc/articles/PMC6941312/)\n",
    "- [\"The Matthews correlation coefficient (MCC) should replace the ROC AUC as the standard metric for assessing binary classification\" D. Chicco, G. Jurman](https://biodatamining.biomedcentral.com/articles/10.1186/s13040-023-00322-4)\n",
    "\n",
    "Furthermore, any probabilistic metric like AUROC requires **well-calibrated** models, i.e. predicting probabilities right. Optimizing cross-entropy (log-loss) directly uses class probabilities, therefore logistic regression and neural networks typically are well-calibrated. Tree-based models, Naive Bayes or SVMs are often surprisingly bad at predicting probabilities. If a model is well-calibrated, we can trust that the probability it predicts is close to the true (typically unknown) probability."
   ]
  },
  {
   "cell_type": "markdown",
   "id": "db626908-c61f-4640-bb4c-404cbb3c1aac",
   "metadata": {},
   "source": [
    "### Training a classifier\n",
    "\n",
    "We will fine-tune a simple [DistilBERT](https://huggingface.co/distilbert/distilbert-base-uncased) model (uncased variant) for binary classification. This is a typical HuggingFace code for training. We will evaluate the resulting model on many metrics, to gain more insight into its performance. During training, we will measure MCC every 1000 steps, to check how the training is progressing."
   ]
  },
  {
   "cell_type": "code",
   "execution_count": null,
   "id": "6e6ea2b0-a9d3-4a7e-8664-f52dcb5731ea",
   "metadata": {
    "ExecuteTime": {
     "end_time": "2024-08-10T15:43:18.132285Z",
     "start_time": "2024-08-10T15:43:03.784357Z"
    }
   },
   "outputs": [],
   "source": [
    "import torch\n",
    "from datasets import Dataset, DatasetDict\n",
    "from sklearn.model_selection import train_test_split\n",
    "\n",
    "\n",
    "# 60-10-30% split\n",
    "test_size = int(0.3 * len(df_fixed))\n",
    "train_size = int(0.6 * len(df_fixed))\n",
    "\n",
    "df_train, df_test = train_test_split(df_fixed, test_size=test_size, random_state=0, stratify=df_fixed[\"label\"])\n",
    "df_train, df_valid = train_test_split(df_train, train_size=train_size, random_state=0, stratify=df_train[\"label\"])\n",
    "\n",
    "datasets_dict = DatasetDict()\n",
    "datasets_dict[\"train\"] = Dataset.from_pandas(df_train, split=\"train\")\n",
    "datasets_dict[\"valid\"] = Dataset.from_pandas(df_valid, split=\"valid\")\n",
    "datasets_dict[\"test\"] = Dataset.from_pandas(df_test, split=\"test\")"
   ]
  },
  {
   "cell_type": "code",
   "execution_count": null,
   "id": "2a485b09-7a0a-444e-a36f-a648977f588f",
   "metadata": {},
   "outputs": [],
   "source": [
    "from transformers import AutoTokenizer\n",
    "\n",
    "\n",
    "tokenizer = AutoTokenizer.from_pretrained(\"distilbert/distilbert-base-uncased\")\n",
    "\n",
    "\n",
    "def tokenize(examples: dict) -> dict:\n",
    "    encoded_examples = tokenizer(examples[\"text\"], padding=True, truncation=True)\n",
    "    encoded_examples[\"label\"] = torch.tensor(examples[\"label\"])\n",
    "    return encoded_examples\n",
    "\n",
    "\n",
    "num_cores = joblib.cpu_count(only_physical_cores=True)\n",
    "datasets_tokenized = datasets_dict.map(tokenize, batched=True)"
   ]
  },
  {
   "cell_type": "code",
   "execution_count": null,
   "id": "4f231c02-6756-4ba0-9a48-1051f34b5256",
   "metadata": {
    "ExecuteTime": {
     "end_time": "2024-08-10T16:18:17.751161Z",
     "start_time": "2024-08-10T15:48:26.150749Z"
    },
    "scrolled": true
   },
   "outputs": [],
   "source": [
    "import os\n",
    "import random\n",
    "\n",
    "from sklearn.metrics import matthews_corrcoef\n",
    "from torch.nn.functional import softmax\n",
    "from transformers import AutoModelForSequenceClassification, EvalPrediction, Trainer, TrainingArguments\n",
    "\n",
    "\n",
    "# set determinism settings\n",
    "os.environ[\"PYTHONHASHSEED\"] = str(0)\n",
    "random.seed(0)\n",
    "np.random.seed(0)\n",
    "torch.manual_seed(0)\n",
    "torch.cuda.manual_seed_all(0)\n",
    "\n",
    "model = AutoModelForSequenceClassification.from_pretrained(\"distilbert/distilbert-base-uncased\", num_labels=2)\n",
    "\n",
    "\n",
    "def compute_metrics(eval_pred: EvalPrediction) -> dict:\n",
    "    y_true = eval_pred.label_ids.ravel()\n",
    "    logits = torch.from_numpy(eval_pred.predictions)\n",
    "    y_pred_proba = softmax(logits, dim=1)[:, 1].numpy()\n",
    "    y_pred = (y_pred_proba >= 0.5).astype(int)\n",
    "    mcc = matthews_corrcoef(y_true, y_pred)\n",
    "    return {\"MCC\": mcc}\n",
    "\n",
    "\n",
    "training_args = TrainingArguments(\n",
    "    output_dir=\"finetuned_model\",\n",
    "    learning_rate=1e-4,\n",
    "    num_train_epochs=1,\n",
    "    eval_strategy=\"steps\",\n",
    "    save_steps=1000,\n",
    "    eval_steps=1000,\n",
    "    save_total_limit=1,\n",
    "    load_best_model_at_end=True,\n",
    "    seed=0,\n",
    "    data_seed=0,\n",
    "    fp16=True,  # comment this out if you have unsupported hardware\n",
    "    dataloader_num_workers=1,  # comment out if necessary\n",
    ")\n",
    "\n",
    "trainer = Trainer(\n",
    "    model=model,\n",
    "    args=training_args,\n",
    "    train_dataset=datasets_tokenized[\"train\"],\n",
    "    eval_dataset=datasets_tokenized[\"valid\"],\n",
    "    tokenizer=tokenizer,\n",
    "    compute_metrics=compute_metrics,\n",
    ")\n",
    "trainer.train()"
   ]
  },
  {
   "cell_type": "code",
   "execution_count": null,
   "id": "ca40b4dd-fd49-465f-8d71-a3b9f672bc97",
   "metadata": {
    "ExecuteTime": {
     "end_time": "2024-08-10T16:29:20.471556Z",
     "start_time": "2024-08-10T16:18:23.467555Z"
    },
    "scrolled": true
   },
   "outputs": [],
   "source": [
    "from sklearn.metrics import f1_score, matthews_corrcoef, precision_score, recall_score, roc_auc_score\n",
    "\n",
    "\n",
    "pred_output = trainer.predict(datasets_tokenized[\"test\"])\n",
    "logits = torch.from_numpy(pred_output.predictions)\n",
    "y_pred_proba = softmax(logits, dim=1)[:, 1].numpy()\n",
    "y_pred = (y_pred_proba >= 0.5).astype(int)\n",
    "y_test = datasets_tokenized[\"test\"][\"label\"]\n",
    "\n",
    "print(f\"Precision: {precision_score(y_test, y_pred):.2%}\")\n",
    "print(f\"Recall: {recall_score(y_test, y_pred):.2%}\")\n",
    "print(f\"F1-score: {f1_score(y_test, y_pred):.2%}\")\n",
    "print(f\"AUROC: {roc_auc_score(y_test, y_pred_proba):.2%}\")\n",
    "print(f\"MCC: {matthews_corrcoef(y_test, y_pred):.2%}\")"
   ]
  },
  {
   "cell_type": "markdown",
   "id": "d4684ddc-a7bf-4870-a6ed-de4cbf472737",
   "metadata": {},
   "source": [
    "Generally, we seem to have a quite good classifier, but a significantly lower MCC may indicate some problems. Although, we have to remember that these are just aggregate numbers, and may lead to wrong conclusions. Let's inspect some predictions manually.\n",
    "\n",
    "The simplest way to check is to do something similar to CleanLab label check. We take the predicted probabilities and check the test instances where:\n",
    "- the model predicted the lowest probability for the positive class, or the highest probability for the negative class\n",
    "- where the model was the most uncertain, i.e., the probability was closest to 50%"
   ]
  },
  {
   "cell_type": "markdown",
   "id": "937fc3de-b632-481e-ba57-cdc85c6b566d",
   "metadata": {},
   "source": [
    "### Exercise 4\n",
    "\n",
    "From test data, select:\n",
    "- Ten worst false positives (with the highest predicted probability, where the true class is negative)\n",
    "- Ten worst false negatives (with the lowest predicted probability among the truly positive class)\n",
    "- Ten most uncertain predictions (with probability closest to 50%)\n",
    "\n",
    "Do you see any obvious problems here?"
   ]
  },
  {
   "cell_type": "code",
   "execution_count": null,
   "id": "5754649d-82a2-4d1d-b199-94a196850ba9",
   "metadata": {},
   "outputs": [],
   "source": []
  },
  {
   "cell_type": "markdown",
   "id": "b01b43b1-c2f3-435f-a068-cf97bd5149af",
   "metadata": {},
   "source": [
    "## Behavioral testing with Giskard\n",
    "\n",
    "[Giskard](https://github.com/Giskard-AI/giskard) is a library for testing tabular, NLP, vision models, and LLMs. It can detect issues like over- and underconfidence, unfairness (sensitivity to gender, religion, etc.), bias towards certain words or segments, etc. There are easily usable integrations with scikit-learn, HuggingFace or LangChain.\n",
    "\n",
    "It mostly relies on **slicing** and **input perturbation** techniques. Slicing analyzes model performance in slices (segments) e.g. when specific words appear. Input perturbations (also called transformations) slightly modify the input data and compare the model behavior between original and perturbed data. These can be introducing typos, lower- or uppercase, changing gender and religion words etc.\n",
    "\n",
    "Giskard requires passing a prediction function, which takes raw test data and returns model predictions, as well as a few other configuration elements. Importantly, if we want interpretable perturbations, we need to pass raw texts as inputs, so that they can be modified. Therefore, the embedding calculation needs to be inside this prediction function. We also use the logistic classifier trained above.\n",
    "\n",
    "**Warning:** this can take a bit. If it takes too long, you can subsample the test set to make it smaller."
   ]
  },
  {
   "cell_type": "code",
   "execution_count": null,
   "id": "3f646a1f-5514-47f9-bc8f-fbd20ab83d8d",
   "metadata": {
    "scrolled": true
   },
   "outputs": [],
   "source": [
    "from giskard import Model as GiskardModel, Dataset as GiskardDataset, scan, testing\n",
    "from transformers import pipeline\n",
    "\n",
    "trained_model = trainer.model\n",
    "trained_model.eval()\n",
    "model_pipeline = pipeline(\n",
    "    \"text-classification\", \n",
    "    model=trained_model, \n",
    "    tokenizer=tokenizer,\n",
    "    device=\"cuda\" if torch.cuda.is_available() else \"cpu\",\n",
    ")\n",
    "\n",
    "\n",
    "@torch.no_grad()\n",
    "def prediction_function(df: pd.DataFrame) -> np.ndarray:\n",
    "    pred_output = model_pipeline(df[\"text\"].tolist())\n",
    "    y_pred_proba = [pred[\"score\"] for pred in pred_output]\n",
    "    return y_pred_proba\n",
    "\n",
    "\n",
    "giskard_dataset = GiskardDataset(df_test, target=\"label\")\n",
    "\n",
    "giskard_model = GiskardModel(\n",
    "    model=prediction_function,\n",
    "    model_type=\"classification\",\n",
    "    classification_labels=[0, 1],\n",
    "    feature_names=[\"text\"],\n",
    ")\n",
    "scan_results = scan(giskard_model, giskard_dataset, verbose=False)\n",
    "display(scan_results)"
   ]
  },
  {
   "cell_type": "code",
   "execution_count": null,
   "id": "738ec401-2454-414e-a471-87ebdfaaa558",
   "metadata": {
    "ExecuteTime": {
     "end_time": "2024-08-10T16:33:15.258520Z",
     "start_time": "2024-08-10T16:33:15.258424Z"
    }
   },
   "outputs": [],
   "source": [
    "display(scan_results)"
   ]
  },
  {
   "cell_type": "markdown",
   "id": "f32c1730-ca98-486b-9609-4c0db947825e",
   "metadata": {},
   "source": [
    "We have only a few issues. Perfect. We have performance problems in some segments, containing words like \"small\" or \"bathroom\". Fixing such issues is often not straightforward, however, and generally requires more data, or data augmentation with e.g. [nlpaug](https://github.com/makcedward/nlpaug) library. Typically, fixing many of these issues is quite hard, but just being aware of them can be useful."
   ]
  },
  {
   "cell_type": "markdown",
   "id": "673eda14-c05c-459f-b357-d5ff09a0d294",
   "metadata": {},
   "source": [
    "# Interpretability\n",
    "Interpretability is a fundamental aspect of developing trustworthy and effective AI systems, particularly when decisions made by these systems have significant implications. It involves understanding and explaining how AI models make their decisions, which is crucial for gaining user trust, fulfilling regulatory requirements, and facilitating model debugging and improvement. It bridges the gap between advanced computational models and human understanding, ensuring that AI systems are not only powerful and efficient but also aligned with ethical standards and user expectations."
   ]
  },
  {
   "cell_type": "markdown",
   "id": "c61ebc0e-3395-4ff6-aef0-2553d2ba9ecb",
   "metadata": {},
   "source": [
    "## Global vs local explainability\n",
    "\n",
    "Understanding the overall behavior of the model is known as **global explainability**, and is generally tough. Modern NLP models are incredibly complex and basically impossible to summarize like \"if description mentions small room, then predict negative sentiment\". This is also less interesting to end users, who are often interested in understanding prediction for a single given text, known as **local interpretability**.\n",
    "\n",
    "There are a lot of techniques for this, benchmarked in papers:\n",
    "- [\"A Diagnostic Study of Explainability Techniques for Text Classification\" P. Atanasova et al.](https://aclanthology.org/2020.emnlp-main.263/)\n",
    "- [\"A Multilingual Perspective Towards the Evaluation of Attribution Methods in Natural Language Inference\" K. Zaman, Y. Belinkov](https://aclanthology.org/2022.emnlp-main.101/)\n",
    "\n",
    "Interestingly, both papers and our practical experience show that the simplest **gradient attribution** methods perform the best. They are fast, faithful to the inner workings of the model, and make sense for human evaluators. Concretely, InputXGradient method with either mean or L2 normalization per word gives the best results. In short, it works as follows:\n",
    "1. Compute model prediction with gradients, just like during training, but without updating model weights.\n",
    "2. With backpropagation, compute gradient for each input token, also known as saliency or **attribution**.\n",
    "3. Multiply tokens by their gradient (hence the name), getting token attribution vector.\n",
    "4. Normalize attribution, i.e., calculate either average or L2-normalized score for each word.\n",
    "\n",
    "This way, we get a single number per token. Gradients are computed for a given class. For binary classification, we predict the probability of positive class. Therefore, higher scores indicate that tokens increase the probability, and negative scores mean that they decrease probability.\n",
    "\n",
    "Why does this simple method work very well? We don't really know. There are some hypotheses, but they are of high mathematical complexity. If you're interested, see e.g. [\"The Manifold Hypothesis for Gradient-Based Explanations\" S. Bordt et al](https://openaccess.thecvf.com/content/CVPR2023W/XAI4CV/papers/Bordt_The_Manifold_Hypothesis_for_Gradient-Based_Explanations_CVPRW_2023_paper.pdf). A major advantage is also speed. This requires computing gradients, but it's still just one forward and backward pass through the model. Other methods are much more complex, like SHAP for text, which has almost exponential complexity."
   ]
  },
  {
   "cell_type": "markdown",
   "id": "a2ba36ea-bc9d-4deb-96f6-8be1aab902ef",
   "metadata": {},
   "source": [
    "## Local explainability with Captum\n",
    "\n",
    "[Captum](https://captum.ai/) is the most popular model interpretability library for PyTorch. It works for computer vision, NLP, [LLMs](https://captum.ai/tutorials/Llama2_LLM_Attribution) and other models. While the most important part are model attributions, which we will use to understand inputs, Captum also supports adversarial attacks, neuron and layer explanations, and identifying influential examples.\n",
    "\n",
    "The code below is modified from [Captum question answering tutorial](https://captum.ai/tutorials/Bert_SQUAD_Interpret). Firstly, we tokenize texts. The essential part is calling the `configure_interpretable_embedding_layer()` function - this special embedding layer replaces the existing transformer embedding layer with Captum one, which tracks gradients and combines explanations with original tokens. Furthermore, since Captum requires gradients, we need to make a small wrapper to pass `attention_mask` to our transformer. Lastly, we make the overall model prediction and use built-in visualization methods to plot the results."
   ]
  },
  {
   "cell_type": "code",
   "execution_count": null,
   "id": "6e3ed7a7-3701-40b5-9d3e-e7511f47e099",
   "metadata": {
    "ExecuteTime": {
     "end_time": "2024-08-10T16:33:21.907661Z",
     "start_time": "2024-08-10T16:33:21.867096Z"
    },
    "scrolled": true
   },
   "outputs": [],
   "source": [
    "from copy import deepcopy\n",
    "\n",
    "from captum.attr import InputXGradient, configure_interpretable_embedding_layer\n",
    "from captum.attr import visualization as vis\n",
    "\n",
    "\n",
    "class BERTModelWrapper(torch.nn.Module):\n",
    "    def __init__(self, model):\n",
    "        super().__init__()\n",
    "        self.model = model\n",
    "\n",
    "    def forward(self, inputs, attention_mask):\n",
    "        return self.model(inputs, attention_mask=attention_mask)[0]\n",
    "\n",
    "\n",
    "def explain_text(model, text: str, y_true: int) -> None:\n",
    "    tokenizer_output = tokenizer.encode_plus(\n",
    "        text,\n",
    "        add_special_tokens=True,\n",
    "        return_attention_mask=True,\n",
    "        return_tensors=\"pt\",\n",
    "    )\n",
    "    \n",
    "    device = torch.device(\"cuda\" if torch.cuda.is_available() else \"cpu\")\n",
    "    tokenizer_output = tokenizer_output.to(device)\n",
    "    tokens = tokenizer.convert_ids_to_tokens(tokenizer_output[\"input_ids\"][0])\n",
    "\n",
    "    model_copy = deepcopy(model)\n",
    "    interpretable_embedding_layer = configure_interpretable_embedding_layer(\n",
    "        model_copy, \"distilbert.embeddings\"\n",
    "    )\n",
    "    input_embeddings = interpretable_embedding_layer.indices_to_embeddings(\n",
    "        tokenizer_output[\"input_ids\"]\n",
    "    )\n",
    "\n",
    "    model_wrapper = BERTModelWrapper(model_copy)\n",
    "    input_x_gradient = InputXGradient(model_wrapper)\n",
    "    attributions = input_x_gradient.attribute(\n",
    "        input_embeddings,\n",
    "        target=1,\n",
    "        additional_forward_args=tokenizer_output[\"attention_mask\"],\n",
    "    )\n",
    "\n",
    "    # mean normalization\n",
    "    attributions = attributions.sum(dim=-1).squeeze(0)\n",
    "    attributions = attributions / torch.norm(attributions)\n",
    "    attributions = list([float(attr) for attr in attributions])\n",
    "    \n",
    "    with torch.no_grad():\n",
    "        logits = model(**tokenizer_output).logits\n",
    "        y_pred_proba = softmax(logits, dim=1)[0, 1].item()\n",
    "        y_pred = int(y_pred_proba >= 0.5)\n",
    "\n",
    "    # remove [CLS] and [SEP] tokens\n",
    "    attributions = attributions[1:-1]\n",
    "    tokens = tokens[1:-1]\n",
    "    \n",
    "    vis_record = vis.VisualizationDataRecord(\n",
    "        word_attributions=attributions,\n",
    "        pred_prob=y_pred_proba,\n",
    "        pred_class=y_pred,\n",
    "        true_class=y_true,\n",
    "        attr_class=1,\n",
    "        attr_score=sum(attributions),\n",
    "        raw_input_ids=tokens,\n",
    "        convergence_score=0,\n",
    "    )\n",
    "    vis.visualize_text([vis_record])\n"
   ]
  },
  {
   "cell_type": "markdown",
   "id": "4619bea4-1cf1-4fd4-9689-8cd5749717df",
   "metadata": {},
   "source": [
    "### Exercise 5\n",
    "\n",
    "1. Use Captum and implemented function to explain predictions for the first 3 positive and 3 negative samples from the test set.\n",
    "2. Comment, do you think that results make sense? Does the model focus on reasonable words, both for positive and negative sentiment?"
   ]
  },
  {
   "cell_type": "code",
   "execution_count": null,
   "id": "80b36b6482f6cf90",
   "metadata": {
    "scrolled": true
   },
   "outputs": [],
   "source": []
  },
  {
   "cell_type": "code",
   "execution_count": null,
   "id": "b7caf657-8afc-46ce-8454-e64eb93abb0c",
   "metadata": {},
   "outputs": [],
   "source": []
  }
 ],
 "metadata": {
  "jupytext": {
   "formats": "ipynb,py:percent"
  },
  "kernelspec": {
   "display_name": "Python 3 (ipykernel)",
   "language": "python",
   "name": "python3"
  },
  "language_info": {
   "codemirror_mode": {
    "name": "ipython",
    "version": 3
   },
   "file_extension": ".py",
   "mimetype": "text/x-python",
   "name": "python",
   "nbconvert_exporter": "python",
   "pygments_lexer": "ipython3",
   "version": "3.12.3"
  }
 },
 "nbformat": 4,
 "nbformat_minor": 5
}
